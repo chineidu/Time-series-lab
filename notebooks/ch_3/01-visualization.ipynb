{
 "cells": [
  {
   "cell_type": "code",
   "execution_count": 1,
   "id": "c1756734",
   "metadata": {},
   "outputs": [],
   "source": [
    "import os\n",
    "import warnings\n",
    "\n",
    "# Visualization\n",
    "import matplotlib.pyplot as plt\n",
    "import numpy as np\n",
    "import pandas as pd\n",
    "import polars as pl\n",
    "\n",
    "# NumPy settings\n",
    "np.set_printoptions(precision=4)\n",
    "\n",
    "# Pandas settings\n",
    "pd.options.display.max_rows = 1_000\n",
    "pd.options.display.max_columns = 1_000\n",
    "pd.options.display.max_colwidth = 600\n",
    "\n",
    "# Polars settings\n",
    "pl.Config.set_fmt_str_lengths(1_000)\n",
    "pl.Config.set_tbl_cols(n=1_000)\n",
    "pl.Config.set_tbl_rows(n=200)\n",
    "\n",
    "warnings.filterwarnings(\"ignore\")\n",
    "\n",
    "# Black code formatter (Optional)\n",
    "%load_ext lab_black\n",
    "\n",
    "# auto reload imports\n",
    "%load_ext autoreload\n",
    "%autoreload 2"
   ]
  },
  {
   "cell_type": "code",
   "execution_count": 2,
   "id": "8f1320fc",
   "metadata": {},
   "outputs": [],
   "source": [
    "from rich.console import Console\n",
    "from rich.theme import Theme\n",
    "\n",
    "custom_theme = Theme(\n",
    "    {\n",
    "        \"white\": \"#FFFFFF\",  # Bright white\n",
    "        \"info\": \"#00FF00\",  # Bright green\n",
    "        \"warning\": \"#FFD700\",  # Bright gold\n",
    "        \"error\": \"#FF1493\",  # Deep pink\n",
    "        \"success\": \"#00FFFF\",  # Cyan\n",
    "        \"highlight\": \"#FF4500\",  # Orange-red\n",
    "    }\n",
    ")\n",
    "console = Console(theme=custom_theme)\n",
    "\n",
    "\n",
    "def go_up_from_current_directory(*, go_up: int = 1) -> None:\n",
    "    \"\"\"This is used to up a number of directories.\n",
    "\n",
    "    Params:\n",
    "    -------\n",
    "    go_up: int, default=1\n",
    "        This indicates the number of times to go back up from the current directory.\n",
    "\n",
    "    Returns:\n",
    "    --------\n",
    "    None\n",
    "    \"\"\"\n",
    "    import sys\n",
    "\n",
    "    CONST: str = \"../\"\n",
    "    NUM: str = CONST * go_up\n",
    "\n",
    "    # Goto the previous directory\n",
    "    prev_directory = os.path.join(os.path.dirname(__name__), NUM)\n",
    "    # Get the 'absolute path' of the previous directory\n",
    "    abs_path_prev_directory = os.path.abspath(prev_directory)\n",
    "\n",
    "    # Add the path to the System paths\n",
    "    sys.path.insert(0, abs_path_prev_directory)\n",
    "    print(abs_path_prev_directory)"
   ]
  },
  {
   "cell_type": "code",
   "execution_count": 3,
   "id": "c8158dc7",
   "metadata": {},
   "outputs": [
    {
     "name": "stdout",
     "output_type": "stream",
     "text": [
      "Shape: (17379, 13)\n"
     ]
    },
    {
     "data": {
      "text/html": [
       "<div><style>\n",
       ".dataframe > thead > tr,\n",
       ".dataframe > tbody > tr {\n",
       "  text-align: right;\n",
       "  white-space: pre-wrap;\n",
       "}\n",
       "</style>\n",
       "<small>shape: (3, 13)</small><table border=\"1\" class=\"dataframe\"><thead><tr><th>season</th><th>year</th><th>month</th><th>hour</th><th>holiday</th><th>weekday</th><th>workingday</th><th>weather</th><th>temp</th><th>feel_temp</th><th>humidity</th><th>windspeed</th><th>count</th></tr><tr><td>str</td><td>i64</td><td>i64</td><td>i64</td><td>bool</td><td>i64</td><td>bool</td><td>str</td><td>f64</td><td>f64</td><td>f64</td><td>f64</td><td>i64</td></tr></thead><tbody><tr><td>&quot;spring&quot;</td><td>0</td><td>1</td><td>0</td><td>false</td><td>6</td><td>false</td><td>&quot;clear&quot;</td><td>9.84</td><td>14.395</td><td>0.81</td><td>0.0</td><td>16</td></tr><tr><td>&quot;spring&quot;</td><td>0</td><td>1</td><td>1</td><td>false</td><td>6</td><td>false</td><td>&quot;clear&quot;</td><td>9.02</td><td>13.635</td><td>0.8</td><td>0.0</td><td>40</td></tr><tr><td>&quot;spring&quot;</td><td>0</td><td>1</td><td>2</td><td>false</td><td>6</td><td>false</td><td>&quot;clear&quot;</td><td>9.02</td><td>13.635</td><td>0.8</td><td>0.0</td><td>32</td></tr></tbody></table></div>"
      ],
      "text/plain": [
       "shape: (3, 13)\n",
       "┌─────┬─────┬─────┬──────┬────────┬────────┬────────┬───────┬──────┬───────┬───────┬───────┬───────┐\n",
       "│ sea ┆ yea ┆ mon ┆ hour ┆ holida ┆ weekda ┆ workin ┆ weath ┆ temp ┆ feel_ ┆ humid ┆ winds ┆ count │\n",
       "│ son ┆ r   ┆ th  ┆ ---  ┆ y      ┆ y      ┆ gday   ┆ er    ┆ ---  ┆ temp  ┆ ity   ┆ peed  ┆ ---   │\n",
       "│ --- ┆ --- ┆ --- ┆ i64  ┆ ---    ┆ ---    ┆ ---    ┆ ---   ┆ f64  ┆ ---   ┆ ---   ┆ ---   ┆ i64   │\n",
       "│ str ┆ i64 ┆ i64 ┆      ┆ bool   ┆ i64    ┆ bool   ┆ str   ┆      ┆ f64   ┆ f64   ┆ f64   ┆       │\n",
       "╞═════╪═════╪═════╪══════╪════════╪════════╪════════╪═══════╪══════╪═══════╪═══════╪═══════╪═══════╡\n",
       "│ spr ┆ 0   ┆ 1   ┆ 0    ┆ false  ┆ 6      ┆ false  ┆ clear ┆ 9.84 ┆ 14.39 ┆ 0.81  ┆ 0.0   ┆ 16    │\n",
       "│ ing ┆     ┆     ┆      ┆        ┆        ┆        ┆       ┆      ┆ 5     ┆       ┆       ┆       │\n",
       "│ spr ┆ 0   ┆ 1   ┆ 1    ┆ false  ┆ 6      ┆ false  ┆ clear ┆ 9.02 ┆ 13.63 ┆ 0.8   ┆ 0.0   ┆ 40    │\n",
       "│ ing ┆     ┆     ┆      ┆        ┆        ┆        ┆       ┆      ┆ 5     ┆       ┆       ┆       │\n",
       "│ spr ┆ 0   ┆ 1   ┆ 2    ┆ false  ┆ 6      ┆ false  ┆ clear ┆ 9.02 ┆ 13.63 ┆ 0.8   ┆ 0.0   ┆ 32    │\n",
       "│ ing ┆     ┆     ┆      ┆        ┆        ┆        ┆       ┆      ┆ 5     ┆       ┆       ┆       │\n",
       "└─────┴─────┴─────┴──────┴────────┴────────┴────────┴───────┴──────┴───────┴───────┴───────┴───────┘"
      ]
     },
     "execution_count": 3,
     "metadata": {},
     "output_type": "execute_result"
    }
   ],
   "source": [
    "fp: str = \"../../data/bike_sharing.csv\"\n",
    "\n",
    "df: pl.DataFrame = pl.read_csv(fp)\n",
    "print(f\"Shape: {df.shape}\")\n",
    "\n",
    "df.head(3)"
   ]
  },
  {
   "cell_type": "markdown",
   "id": "d45f4878",
   "metadata": {},
   "source": [
    "### Visualization\n",
    "\n",
    "- Visualize the average bike rental demand per hour during the week."
   ]
  },
  {
   "cell_type": "code",
   "execution_count": null,
   "id": "f0307e87",
   "metadata": {},
   "outputs": [
    {
     "data": {
      "text/html": [
       "<div><style>\n",
       ".dataframe > thead > tr,\n",
       ".dataframe > tbody > tr {\n",
       "  text-align: right;\n",
       "  white-space: pre-wrap;\n",
       "}\n",
       "</style>\n",
       "<small>shape: (20, 4)</small><table border=\"1\" class=\"dataframe\"><thead><tr><th>weekday</th><th>hour</th><th>count</th><th>time_of_week</th></tr><tr><td>i64</td><td>i64</td><td>f64</td><td>i64</td></tr></thead><tbody><tr><td>0</td><td>0</td><td>93.99</td><td>0</td></tr><tr><td>0</td><td>1</td><td>77.43</td><td>1</td></tr><tr><td>0</td><td>2</td><td>61.63</td><td>2</td></tr><tr><td>0</td><td>3</td><td>31.14</td><td>3</td></tr><tr><td>0</td><td>4</td><td>9.36</td><td>4</td></tr><tr><td>0</td><td>5</td><td>8.69</td><td>5</td></tr><tr><td>0</td><td>6</td><td>14.5</td><td>6</td></tr><tr><td>0</td><td>7</td><td>33.1</td><td>7</td></tr><tr><td>0</td><td>8</td><td>83.86</td><td>8</td></tr><tr><td>0</td><td>9</td><td>156.54</td><td>9</td></tr><tr><td>0</td><td>10</td><td>258.58</td><td>10</td></tr><tr><td>0</td><td>11</td><td>315.38</td><td>11</td></tr><tr><td>0</td><td>12</td><td>372.96</td><td>12</td></tr><tr><td>0</td><td>13</td><td>374.93</td><td>13</td></tr><tr><td>0</td><td>14</td><td>363.63</td><td>14</td></tr><tr><td>0</td><td>15</td><td>353.93</td><td>15</td></tr><tr><td>0</td><td>16</td><td>355.4</td><td>16</td></tr><tr><td>0</td><td>17</td><td>318.77</td><td>17</td></tr><tr><td>0</td><td>18</td><td>272.63</td><td>18</td></tr><tr><td>0</td><td>19</td><td>225.48</td><td>19</td></tr></tbody></table></div>"
      ],
      "text/plain": [
       "shape: (20, 4)\n",
       "┌─────────┬──────┬────────┬──────────────┐\n",
       "│ weekday ┆ hour ┆ count  ┆ time_of_week │\n",
       "│ ---     ┆ ---  ┆ ---    ┆ ---          │\n",
       "│ i64     ┆ i64  ┆ f64    ┆ i64          │\n",
       "╞═════════╪══════╪════════╪══════════════╡\n",
       "│ 0       ┆ 0    ┆ 93.99  ┆ 0            │\n",
       "│ 0       ┆ 1    ┆ 77.43  ┆ 1            │\n",
       "│ 0       ┆ 2    ┆ 61.63  ┆ 2            │\n",
       "│ 0       ┆ 3    ┆ 31.14  ┆ 3            │\n",
       "│ 0       ┆ 4    ┆ 9.36   ┆ 4            │\n",
       "│ 0       ┆ 5    ┆ 8.69   ┆ 5            │\n",
       "│ 0       ┆ 6    ┆ 14.5   ┆ 6            │\n",
       "│ 0       ┆ 7    ┆ 33.1   ┆ 7            │\n",
       "│ 0       ┆ 8    ┆ 83.86  ┆ 8            │\n",
       "│ 0       ┆ 9    ┆ 156.54 ┆ 9            │\n",
       "│ 0       ┆ 10   ┆ 258.58 ┆ 10           │\n",
       "│ 0       ┆ 11   ┆ 315.38 ┆ 11           │\n",
       "│ 0       ┆ 12   ┆ 372.96 ┆ 12           │\n",
       "│ 0       ┆ 13   ┆ 374.93 ┆ 13           │\n",
       "│ 0       ┆ 14   ┆ 363.63 ┆ 14           │\n",
       "│ 0       ┆ 15   ┆ 353.93 ┆ 15           │\n",
       "│ 0       ┆ 16   ┆ 355.4  ┆ 16           │\n",
       "│ 0       ┆ 17   ┆ 318.77 ┆ 17           │\n",
       "│ 0       ┆ 18   ┆ 272.63 ┆ 18           │\n",
       "│ 0       ┆ 19   ┆ 225.48 ┆ 19           │\n",
       "└─────────┴──────┴────────┴──────────────┘"
      ]
     },
     "execution_count": 10,
     "metadata": {},
     "output_type": "execute_result"
    }
   ],
   "source": [
    "grpby_df = (\n",
    "    df.group_by([\"weekday\", \"hour\"])\n",
    "    .agg(pl.col(\"count\").mean().round(2).alias(\"count\"))\n",
    "    .with_columns(((pl.col(\"weekday\").cast(pl.Int64) * 24) + pl.col(\"hour\").cast(pl.Int64)).alias(\"time_of_week\"))\n",
    "    .sort(\"time_of_week\")\n",
    ")\n",
    "grpby_df.head(20)"
   ]
  },
  {
   "cell_type": "code",
   "execution_count": 11,
   "id": "45f7a0b3",
   "metadata": {},
   "outputs": [
    {
     "data": {
      "image/png": "[encoded data removed]",
      "text/plain": [
       "<Figure size 1200x400 with 1 Axes>"
      ]
     },
     "metadata": {},
     "output_type": "display_data"
    }
   ],
   "source": [
    "# Extract NumPy arrays from Polars Series (no pandas conversion)\n",
    "x = grpby_df[\"time_of_week\"].to_numpy()\n",
    "y = grpby_df[\"count\"].to_numpy()\n",
    "\n",
    "fig, ax = plt.subplots(figsize=(12, 4))\n",
    "ax.plot(x, y, marker=\"o\", linestyle=\"-\", color=\"#1f77b4\")\n",
    "ax.set_title(\"Average hourly bike demand during the week\")\n",
    "ax.set_xticks([i * 24 for i in range(7)])\n",
    "ax.set_xticklabels([\"Sun\", \"Mon\", \"Tue\", \"Wed\", \"Thu\", \"Fri\", \"Sat\"])\n",
    "ax.set_xlabel(\"Time of the week\")\n",
    "ax.set_ylabel(\"Number of bike rentals\")\n",
    "ax.grid(alpha=0.3)"
   ]
  },
  {
   "cell_type": "code",
   "execution_count": 42,
   "id": "c1972103",
   "metadata": {},
   "outputs": [
    {
     "data": {
      "text/html": [
       "<div><style>\n",
       ".dataframe > thead > tr,\n",
       ".dataframe > tbody > tr {\n",
       "  text-align: right;\n",
       "  white-space: pre-wrap;\n",
       "}\n",
       "</style>\n",
       "<small>shape: (3, 13)</small><table border=\"1\" class=\"dataframe\"><thead><tr><th>season</th><th>year</th><th>month</th><th>hour</th><th>holiday</th><th>weekday</th><th>workingday</th><th>weather</th><th>temp</th><th>feel_temp</th><th>humidity</th><th>windspeed</th><th>id</th></tr><tr><td>str</td><td>i64</td><td>i64</td><td>i64</td><td>bool</td><td>i64</td><td>bool</td><td>str</td><td>f64</td><td>f64</td><td>f64</td><td>f64</td><td>i64</td></tr></thead><tbody><tr><td>&quot;spring&quot;</td><td>0</td><td>1</td><td>0</td><td>false</td><td>6</td><td>false</td><td>&quot;clear&quot;</td><td>9.84</td><td>14.395</td><td>0.81</td><td>0.0</td><td>0</td></tr><tr><td>&quot;spring&quot;</td><td>0</td><td>1</td><td>1</td><td>false</td><td>6</td><td>false</td><td>&quot;clear&quot;</td><td>9.02</td><td>13.635</td><td>0.8</td><td>0.0</td><td>1</td></tr><tr><td>&quot;spring&quot;</td><td>0</td><td>1</td><td>2</td><td>false</td><td>6</td><td>false</td><td>&quot;clear&quot;</td><td>9.02</td><td>13.635</td><td>0.8</td><td>0.0</td><td>2</td></tr></tbody></table></div>"
      ],
      "text/plain": [
       "shape: (3, 13)\n",
       "┌─────┬─────┬───────┬──────┬────────┬────────┬────────┬───────┬──────┬───────┬───────┬───────┬─────┐\n",
       "│ sea ┆ yea ┆ month ┆ hour ┆ holida ┆ weekda ┆ workin ┆ weath ┆ temp ┆ feel_ ┆ humid ┆ winds ┆ id  │\n",
       "│ son ┆ r   ┆ ---   ┆ ---  ┆ y      ┆ y      ┆ gday   ┆ er    ┆ ---  ┆ temp  ┆ ity   ┆ peed  ┆ --- │\n",
       "│ --- ┆ --- ┆ i64   ┆ i64  ┆ ---    ┆ ---    ┆ ---    ┆ ---   ┆ f64  ┆ ---   ┆ ---   ┆ ---   ┆ i64 │\n",
       "│ str ┆ i64 ┆       ┆      ┆ bool   ┆ i64    ┆ bool   ┆ str   ┆      ┆ f64   ┆ f64   ┆ f64   ┆     │\n",
       "╞═════╪═════╪═══════╪══════╪════════╪════════╪════════╪═══════╪══════╪═══════╪═══════╪═══════╪═════╡\n",
       "│ spr ┆ 0   ┆ 1     ┆ 0    ┆ false  ┆ 6      ┆ false  ┆ clear ┆ 9.84 ┆ 14.39 ┆ 0.81  ┆ 0.0   ┆ 0   │\n",
       "│ ing ┆     ┆       ┆      ┆        ┆        ┆        ┆       ┆      ┆ 5     ┆       ┆       ┆     │\n",
       "│ spr ┆ 0   ┆ 1     ┆ 1    ┆ false  ┆ 6      ┆ false  ┆ clear ┆ 9.02 ┆ 13.63 ┆ 0.8   ┆ 0.0   ┆ 1   │\n",
       "│ ing ┆     ┆       ┆      ┆        ┆        ┆        ┆       ┆      ┆ 5     ┆       ┆       ┆     │\n",
       "│ spr ┆ 0   ┆ 1     ┆ 2    ┆ false  ┆ 6      ┆ false  ┆ clear ┆ 9.02 ┆ 13.63 ┆ 0.8   ┆ 0.0   ┆ 2   │\n",
       "│ ing ┆     ┆       ┆      ┆        ┆        ┆        ┆       ┆      ┆ 5     ┆       ┆       ┆     │\n",
       "└─────┴─────┴───────┴──────┴────────┴────────┴────────┴───────┴──────┴───────┴───────┴───────┴─────┘"
      ]
     },
     "execution_count": 42,
     "metadata": {},
     "output_type": "execute_result"
    }
   ],
   "source": [
    "# If the time information was only present as a date or datetime column, we could have expanded it into hour-in-the-day,\n",
    "# day-in-the-week, day-in-the-month, month-in-the-year\n",
    "X = df.drop(\"count\").with_columns(pl.int_range(0, df.height).alias(\"id\"))\n",
    "y = df[\"count\"]\n",
    "X.head(3)"
   ]
  },
  {
   "cell_type": "code",
   "execution_count": null,
   "id": "32199781",
   "metadata": {},
   "outputs": [
    {
     "data": {
      "text/html": [
       "<pre style=\"white-space:pre;overflow-x:auto;line-height:normal;font-family:Menlo,'DejaVu Sans Mono',consolas,'Courier New',monospace\"><span style=\"color: #00ff00; text-decoration-color: #00ff00\">shape: </span><span style=\"color: #00ff00; text-decoration-color: #00ff00; font-weight: bold\">(</span><span style=\"color: #008080; text-decoration-color: #008080; font-weight: bold\">4</span><span style=\"color: #00ff00; text-decoration-color: #00ff00\">, </span><span style=\"color: #008080; text-decoration-color: #008080; font-weight: bold\">3</span><span style=\"color: #00ff00; text-decoration-color: #00ff00; font-weight: bold\">)</span>\n",
       "<span style=\"color: #00ff00; text-decoration-color: #00ff00\">┌────────┬────────────┬────────────┐</span>\n",
       "<span style=\"color: #00ff00; text-decoration-color: #00ff00\">│ season ┆ proportion ┆ percentage │</span>\n",
       "<span style=\"color: #00ff00; text-decoration-color: #00ff00\">│ ---    ┆ ---        ┆ ---        │</span>\n",
       "<span style=\"color: #00ff00; text-decoration-color: #00ff00\">│ str    ┆ f64        ┆ f64        │</span>\n",
       "<span style=\"color: #00ff00; text-decoration-color: #00ff00\">╞════════╪════════════╪════════════╡</span>\n",
       "<span style=\"color: #00ff00; text-decoration-color: #00ff00\">│ winter ┆ </span><span style=\"color: #008080; text-decoration-color: #008080; font-weight: bold\">0.243512</span><span style=\"color: #00ff00; text-decoration-color: #00ff00\">   ┆ </span><span style=\"color: #008080; text-decoration-color: #008080; font-weight: bold\">24.35</span><span style=\"color: #00ff00; text-decoration-color: #00ff00\">      │</span>\n",
       "<span style=\"color: #00ff00; text-decoration-color: #00ff00\">│ fall   ┆ </span><span style=\"color: #008080; text-decoration-color: #008080; font-weight: bold\">0.258703</span><span style=\"color: #00ff00; text-decoration-color: #00ff00\">   ┆ </span><span style=\"color: #008080; text-decoration-color: #008080; font-weight: bold\">25.87</span><span style=\"color: #00ff00; text-decoration-color: #00ff00\">      │</span>\n",
       "<span style=\"color: #00ff00; text-decoration-color: #00ff00\">│ summer ┆ </span><span style=\"color: #008080; text-decoration-color: #008080; font-weight: bold\">0.253697</span><span style=\"color: #00ff00; text-decoration-color: #00ff00\">   ┆ </span><span style=\"color: #008080; text-decoration-color: #008080; font-weight: bold\">25.37</span><span style=\"color: #00ff00; text-decoration-color: #00ff00\">      │</span>\n",
       "<span style=\"color: #00ff00; text-decoration-color: #00ff00\">│ spring ┆ </span><span style=\"color: #008080; text-decoration-color: #008080; font-weight: bold\">0.244088</span><span style=\"color: #00ff00; text-decoration-color: #00ff00\">   ┆ </span><span style=\"color: #008080; text-decoration-color: #008080; font-weight: bold\">24.41</span><span style=\"color: #00ff00; text-decoration-color: #00ff00\">      │</span>\n",
       "<span style=\"color: #00ff00; text-decoration-color: #00ff00\">└────────┴────────────┴────────────┘</span>\n",
       "</pre>\n"
      ],
      "text/plain": [
       "\u001b[38;2;0;255;0mshape: \u001b[0m\u001b[1;38;2;0;255;0m(\u001b[0m\u001b[1;36m4\u001b[0m\u001b[38;2;0;255;0m, \u001b[0m\u001b[1;36m3\u001b[0m\u001b[1;38;2;0;255;0m)\u001b[0m\n",
       "\u001b[38;2;0;255;0m┌────────┬────────────┬────────────┐\u001b[0m\n",
       "\u001b[38;2;0;255;0m│ season ┆ proportion ┆ percentage │\u001b[0m\n",
       "\u001b[38;2;0;255;0m│ ---    ┆ ---        ┆ ---        │\u001b[0m\n",
       "\u001b[38;2;0;255;0m│ str    ┆ f64        ┆ f64        │\u001b[0m\n",
       "\u001b[38;2;0;255;0m╞════════╪════════════╪════════════╡\u001b[0m\n",
       "\u001b[38;2;0;255;0m│ winter ┆ \u001b[0m\u001b[1;36m0.243512\u001b[0m\u001b[38;2;0;255;0m   ┆ \u001b[0m\u001b[1;36m24.35\u001b[0m\u001b[38;2;0;255;0m      │\u001b[0m\n",
       "\u001b[38;2;0;255;0m│ fall   ┆ \u001b[0m\u001b[1;36m0.258703\u001b[0m\u001b[38;2;0;255;0m   ┆ \u001b[0m\u001b[1;36m25.87\u001b[0m\u001b[38;2;0;255;0m      │\u001b[0m\n",
       "\u001b[38;2;0;255;0m│ summer ┆ \u001b[0m\u001b[1;36m0.253697\u001b[0m\u001b[38;2;0;255;0m   ┆ \u001b[0m\u001b[1;36m25.37\u001b[0m\u001b[38;2;0;255;0m      │\u001b[0m\n",
       "\u001b[38;2;0;255;0m│ spring ┆ \u001b[0m\u001b[1;36m0.244088\u001b[0m\u001b[38;2;0;255;0m   ┆ \u001b[0m\u001b[1;36m24.41\u001b[0m\u001b[38;2;0;255;0m      │\u001b[0m\n",
       "\u001b[38;2;0;255;0m└────────┴────────────┴────────────┘\u001b[0m\n"
      ]
     },
     "metadata": {},
     "output_type": "display_data"
    },
    {
     "data": {
      "text/html": [
       "<pre style=\"white-space:pre;overflow-x:auto;line-height:normal;font-family:Menlo,'DejaVu Sans Mono',consolas,'Courier New',monospace\"><span style=\"color: #00ff00; text-decoration-color: #00ff00\">shape: </span><span style=\"color: #00ff00; text-decoration-color: #00ff00; font-weight: bold\">(</span><span style=\"color: #008080; text-decoration-color: #008080; font-weight: bold\">4</span><span style=\"color: #00ff00; text-decoration-color: #00ff00\">, </span><span style=\"color: #008080; text-decoration-color: #008080; font-weight: bold\">3</span><span style=\"color: #00ff00; text-decoration-color: #00ff00; font-weight: bold\">)</span>\n",
       "<span style=\"color: #00ff00; text-decoration-color: #00ff00\">┌────────────┬────────────┬────────────┐</span>\n",
       "<span style=\"color: #00ff00; text-decoration-color: #00ff00\">│ weather    ┆ proportion ┆ percentage │</span>\n",
       "<span style=\"color: #00ff00; text-decoration-color: #00ff00\">│ ---        ┆ ---        ┆ ---        │</span>\n",
       "<span style=\"color: #00ff00; text-decoration-color: #00ff00\">│ str        ┆ f64        ┆ f64        │</span>\n",
       "<span style=\"color: #00ff00; text-decoration-color: #00ff00\">╞════════════╪════════════╪════════════╡</span>\n",
       "<span style=\"color: #00ff00; text-decoration-color: #00ff00\">│ misty      ┆ </span><span style=\"color: #008080; text-decoration-color: #008080; font-weight: bold\">0.261465</span><span style=\"color: #00ff00; text-decoration-color: #00ff00\">   ┆ </span><span style=\"color: #008080; text-decoration-color: #008080; font-weight: bold\">26.15</span><span style=\"color: #00ff00; text-decoration-color: #00ff00\">      │</span>\n",
       "<span style=\"color: #00ff00; text-decoration-color: #00ff00\">│ rain       ┆ </span><span style=\"color: #008080; text-decoration-color: #008080; font-weight: bold\">0.08165</span><span style=\"color: #00ff00; text-decoration-color: #00ff00\">    ┆ </span><span style=\"color: #008080; text-decoration-color: #008080; font-weight: bold\">8.17</span><span style=\"color: #00ff00; text-decoration-color: #00ff00\">       │</span>\n",
       "<span style=\"color: #00ff00; text-decoration-color: #00ff00\">│ clear      ┆ </span><span style=\"color: #008080; text-decoration-color: #008080; font-weight: bold\">0.656712</span><span style=\"color: #00ff00; text-decoration-color: #00ff00\">   ┆ </span><span style=\"color: #008080; text-decoration-color: #008080; font-weight: bold\">65.67</span><span style=\"color: #00ff00; text-decoration-color: #00ff00\">      │</span>\n",
       "<span style=\"color: #00ff00; text-decoration-color: #00ff00\">│ heavy_rain ┆ </span><span style=\"color: #008080; text-decoration-color: #008080; font-weight: bold\">0.000173</span><span style=\"color: #00ff00; text-decoration-color: #00ff00\">   ┆ </span><span style=\"color: #008080; text-decoration-color: #008080; font-weight: bold\">0.02</span><span style=\"color: #00ff00; text-decoration-color: #00ff00\">       │</span>\n",
       "<span style=\"color: #00ff00; text-decoration-color: #00ff00\">└────────────┴────────────┴────────────┘</span>\n",
       "</pre>\n"
      ],
      "text/plain": [
       "\u001b[38;2;0;255;0mshape: \u001b[0m\u001b[1;38;2;0;255;0m(\u001b[0m\u001b[1;36m4\u001b[0m\u001b[38;2;0;255;0m, \u001b[0m\u001b[1;36m3\u001b[0m\u001b[1;38;2;0;255;0m)\u001b[0m\n",
       "\u001b[38;2;0;255;0m┌────────────┬────────────┬────────────┐\u001b[0m\n",
       "\u001b[38;2;0;255;0m│ weather    ┆ proportion ┆ percentage │\u001b[0m\n",
       "\u001b[38;2;0;255;0m│ ---        ┆ ---        ┆ ---        │\u001b[0m\n",
       "\u001b[38;2;0;255;0m│ str        ┆ f64        ┆ f64        │\u001b[0m\n",
       "\u001b[38;2;0;255;0m╞════════════╪════════════╪════════════╡\u001b[0m\n",
       "\u001b[38;2;0;255;0m│ misty      ┆ \u001b[0m\u001b[1;36m0.261465\u001b[0m\u001b[38;2;0;255;0m   ┆ \u001b[0m\u001b[1;36m26.15\u001b[0m\u001b[38;2;0;255;0m      │\u001b[0m\n",
       "\u001b[38;2;0;255;0m│ rain       ┆ \u001b[0m\u001b[1;36m0.08165\u001b[0m\u001b[38;2;0;255;0m    ┆ \u001b[0m\u001b[1;36m8.17\u001b[0m\u001b[38;2;0;255;0m       │\u001b[0m\n",
       "\u001b[38;2;0;255;0m│ clear      ┆ \u001b[0m\u001b[1;36m0.656712\u001b[0m\u001b[38;2;0;255;0m   ┆ \u001b[0m\u001b[1;36m65.67\u001b[0m\u001b[38;2;0;255;0m      │\u001b[0m\n",
       "\u001b[38;2;0;255;0m│ heavy_rain ┆ \u001b[0m\u001b[1;36m0.000173\u001b[0m\u001b[38;2;0;255;0m   ┆ \u001b[0m\u001b[1;36m0.02\u001b[0m\u001b[38;2;0;255;0m       │\u001b[0m\n",
       "\u001b[38;2;0;255;0m└────────────┴────────────┴────────────┘\u001b[0m\n"
      ]
     },
     "metadata": {},
     "output_type": "display_data"
    }
   ],
   "source": [
    "import polars.selectors as cs\n",
    "\n",
    "cat_cols: list[str] = X.select(cs.string()).columns\n",
    "for var in cat_cols:\n",
    "    count = X[var].value_counts(normalize=True).with_columns((pl.col(\"proportion\") * 100).round(2).alias(\"percentage\"))\n",
    "    console.print(count, style=\"info\")"
   ]
  },
  {
   "cell_type": "code",
   "execution_count": null,
   "id": "66462a93",
   "metadata": {},
   "outputs": [
    {
     "data": {
      "text/html": [
       "<pre style=\"white-space:pre;overflow-x:auto;line-height:normal;font-family:Menlo,'DejaVu Sans Mono',consolas,'Courier New',monospace\"><span style=\"color: #00ff00; text-decoration-color: #00ff00\">shape: </span><span style=\"color: #00ff00; text-decoration-color: #00ff00; font-weight: bold\">(</span><span style=\"color: #008080; text-decoration-color: #008080; font-weight: bold\">4</span><span style=\"color: #00ff00; text-decoration-color: #00ff00\">, </span><span style=\"color: #008080; text-decoration-color: #008080; font-weight: bold\">3</span><span style=\"color: #00ff00; text-decoration-color: #00ff00; font-weight: bold\">)</span>\n",
       "<span style=\"color: #00ff00; text-decoration-color: #00ff00\">┌────────┬────────────┬────────────┐</span>\n",
       "<span style=\"color: #00ff00; text-decoration-color: #00ff00\">│ season ┆ proportion ┆ percentage │</span>\n",
       "<span style=\"color: #00ff00; text-decoration-color: #00ff00\">│ ---    ┆ ---        ┆ ---        │</span>\n",
       "<span style=\"color: #00ff00; text-decoration-color: #00ff00\">│ str    ┆ f64        ┆ f64        │</span>\n",
       "<span style=\"color: #00ff00; text-decoration-color: #00ff00\">╞════════╪════════════╪════════════╡</span>\n",
       "<span style=\"color: #00ff00; text-decoration-color: #00ff00\">│ winter ┆ </span><span style=\"color: #008080; text-decoration-color: #008080; font-weight: bold\">0.243512</span><span style=\"color: #00ff00; text-decoration-color: #00ff00\">   ┆ </span><span style=\"color: #008080; text-decoration-color: #008080; font-weight: bold\">24.35</span><span style=\"color: #00ff00; text-decoration-color: #00ff00\">      │</span>\n",
       "<span style=\"color: #00ff00; text-decoration-color: #00ff00\">│ fall   ┆ </span><span style=\"color: #008080; text-decoration-color: #008080; font-weight: bold\">0.258703</span><span style=\"color: #00ff00; text-decoration-color: #00ff00\">   ┆ </span><span style=\"color: #008080; text-decoration-color: #008080; font-weight: bold\">25.87</span><span style=\"color: #00ff00; text-decoration-color: #00ff00\">      │</span>\n",
       "<span style=\"color: #00ff00; text-decoration-color: #00ff00\">│ summer ┆ </span><span style=\"color: #008080; text-decoration-color: #008080; font-weight: bold\">0.253697</span><span style=\"color: #00ff00; text-decoration-color: #00ff00\">   ┆ </span><span style=\"color: #008080; text-decoration-color: #008080; font-weight: bold\">25.37</span><span style=\"color: #00ff00; text-decoration-color: #00ff00\">      │</span>\n",
       "<span style=\"color: #00ff00; text-decoration-color: #00ff00\">│ spring ┆ </span><span style=\"color: #008080; text-decoration-color: #008080; font-weight: bold\">0.244088</span><span style=\"color: #00ff00; text-decoration-color: #00ff00\">   ┆ </span><span style=\"color: #008080; text-decoration-color: #008080; font-weight: bold\">24.41</span><span style=\"color: #00ff00; text-decoration-color: #00ff00\">      │</span>\n",
       "<span style=\"color: #00ff00; text-decoration-color: #00ff00\">└────────┴────────────┴────────────┘</span>\n",
       "</pre>\n"
      ],
      "text/plain": [
       "\u001b[38;2;0;255;0mshape: \u001b[0m\u001b[1;38;2;0;255;0m(\u001b[0m\u001b[1;36m4\u001b[0m\u001b[38;2;0;255;0m, \u001b[0m\u001b[1;36m3\u001b[0m\u001b[1;38;2;0;255;0m)\u001b[0m\n",
       "\u001b[38;2;0;255;0m┌────────┬────────────┬────────────┐\u001b[0m\n",
       "\u001b[38;2;0;255;0m│ season ┆ proportion ┆ percentage │\u001b[0m\n",
       "\u001b[38;2;0;255;0m│ ---    ┆ ---        ┆ ---        │\u001b[0m\n",
       "\u001b[38;2;0;255;0m│ str    ┆ f64        ┆ f64        │\u001b[0m\n",
       "\u001b[38;2;0;255;0m╞════════╪════════════╪════════════╡\u001b[0m\n",
       "\u001b[38;2;0;255;0m│ winter ┆ \u001b[0m\u001b[1;36m0.243512\u001b[0m\u001b[38;2;0;255;0m   ┆ \u001b[0m\u001b[1;36m24.35\u001b[0m\u001b[38;2;0;255;0m      │\u001b[0m\n",
       "\u001b[38;2;0;255;0m│ fall   ┆ \u001b[0m\u001b[1;36m0.258703\u001b[0m\u001b[38;2;0;255;0m   ┆ \u001b[0m\u001b[1;36m25.87\u001b[0m\u001b[38;2;0;255;0m      │\u001b[0m\n",
       "\u001b[38;2;0;255;0m│ summer ┆ \u001b[0m\u001b[1;36m0.253697\u001b[0m\u001b[38;2;0;255;0m   ┆ \u001b[0m\u001b[1;36m25.37\u001b[0m\u001b[38;2;0;255;0m      │\u001b[0m\n",
       "\u001b[38;2;0;255;0m│ spring ┆ \u001b[0m\u001b[1;36m0.244088\u001b[0m\u001b[38;2;0;255;0m   ┆ \u001b[0m\u001b[1;36m24.41\u001b[0m\u001b[38;2;0;255;0m      │\u001b[0m\n",
       "\u001b[38;2;0;255;0m└────────┴────────────┴────────────┘\u001b[0m\n"
      ]
     },
     "metadata": {},
     "output_type": "display_data"
    },
    {
     "data": {
      "text/html": [
       "<pre style=\"white-space:pre;overflow-x:auto;line-height:normal;font-family:Menlo,'DejaVu Sans Mono',consolas,'Courier New',monospace\"><span style=\"color: #00ff00; text-decoration-color: #00ff00\">shape: </span><span style=\"color: #00ff00; text-decoration-color: #00ff00; font-weight: bold\">(</span><span style=\"color: #008080; text-decoration-color: #008080; font-weight: bold\">3</span><span style=\"color: #00ff00; text-decoration-color: #00ff00\">, </span><span style=\"color: #008080; text-decoration-color: #008080; font-weight: bold\">3</span><span style=\"color: #00ff00; text-decoration-color: #00ff00; font-weight: bold\">)</span>\n",
       "<span style=\"color: #00ff00; text-decoration-color: #00ff00\">┌─────────┬────────────┬────────────┐</span>\n",
       "<span style=\"color: #00ff00; text-decoration-color: #00ff00\">│ weather ┆ proportion ┆ percentage │</span>\n",
       "<span style=\"color: #00ff00; text-decoration-color: #00ff00\">│ ---     ┆ ---        ┆ ---        │</span>\n",
       "<span style=\"color: #00ff00; text-decoration-color: #00ff00\">│ str     ┆ f64        ┆ f64        │</span>\n",
       "<span style=\"color: #00ff00; text-decoration-color: #00ff00\">╞═════════╪════════════╪════════════╡</span>\n",
       "<span style=\"color: #00ff00; text-decoration-color: #00ff00\">│ rain    ┆ </span><span style=\"color: #008080; text-decoration-color: #008080; font-weight: bold\">0.081823</span><span style=\"color: #00ff00; text-decoration-color: #00ff00\">   ┆ </span><span style=\"color: #008080; text-decoration-color: #008080; font-weight: bold\">8.18</span><span style=\"color: #00ff00; text-decoration-color: #00ff00\">       │</span>\n",
       "<span style=\"color: #00ff00; text-decoration-color: #00ff00\">│ misty   ┆ </span><span style=\"color: #008080; text-decoration-color: #008080; font-weight: bold\">0.261465</span><span style=\"color: #00ff00; text-decoration-color: #00ff00\">   ┆ </span><span style=\"color: #008080; text-decoration-color: #008080; font-weight: bold\">26.15</span><span style=\"color: #00ff00; text-decoration-color: #00ff00\">      │</span>\n",
       "<span style=\"color: #00ff00; text-decoration-color: #00ff00\">│ clear   ┆ </span><span style=\"color: #008080; text-decoration-color: #008080; font-weight: bold\">0.656712</span><span style=\"color: #00ff00; text-decoration-color: #00ff00\">   ┆ </span><span style=\"color: #008080; text-decoration-color: #008080; font-weight: bold\">65.67</span><span style=\"color: #00ff00; text-decoration-color: #00ff00\">      │</span>\n",
       "<span style=\"color: #00ff00; text-decoration-color: #00ff00\">└─────────┴────────────┴────────────┘</span>\n",
       "</pre>\n"
      ],
      "text/plain": [
       "\u001b[38;2;0;255;0mshape: \u001b[0m\u001b[1;38;2;0;255;0m(\u001b[0m\u001b[1;36m3\u001b[0m\u001b[38;2;0;255;0m, \u001b[0m\u001b[1;36m3\u001b[0m\u001b[1;38;2;0;255;0m)\u001b[0m\n",
       "\u001b[38;2;0;255;0m┌─────────┬────────────┬────────────┐\u001b[0m\n",
       "\u001b[38;2;0;255;0m│ weather ┆ proportion ┆ percentage │\u001b[0m\n",
       "\u001b[38;2;0;255;0m│ ---     ┆ ---        ┆ ---        │\u001b[0m\n",
       "\u001b[38;2;0;255;0m│ str     ┆ f64        ┆ f64        │\u001b[0m\n",
       "\u001b[38;2;0;255;0m╞═════════╪════════════╪════════════╡\u001b[0m\n",
       "\u001b[38;2;0;255;0m│ rain    ┆ \u001b[0m\u001b[1;36m0.081823\u001b[0m\u001b[38;2;0;255;0m   ┆ \u001b[0m\u001b[1;36m8.18\u001b[0m\u001b[38;2;0;255;0m       │\u001b[0m\n",
       "\u001b[38;2;0;255;0m│ misty   ┆ \u001b[0m\u001b[1;36m0.261465\u001b[0m\u001b[38;2;0;255;0m   ┆ \u001b[0m\u001b[1;36m26.15\u001b[0m\u001b[38;2;0;255;0m      │\u001b[0m\n",
       "\u001b[38;2;0;255;0m│ clear   ┆ \u001b[0m\u001b[1;36m0.656712\u001b[0m\u001b[38;2;0;255;0m   ┆ \u001b[0m\u001b[1;36m65.67\u001b[0m\u001b[38;2;0;255;0m      │\u001b[0m\n",
       "\u001b[38;2;0;255;0m└─────────┴────────────┴────────────┘\u001b[0m\n"
      ]
     },
     "metadata": {},
     "output_type": "display_data"
    }
   ],
   "source": [
    "# Replace \"heavy_rain\" with \"rain\" in the \"weather\" column\n",
    "X = X.with_columns(\n",
    "    pl.when(pl.col(\"weather\").eq(\"heavy_rain\")).then(pl.lit(\"rain\")).otherwise(pl.col(\"weather\")).alias(\"weather\")\n",
    ")\n",
    "\n",
    "for var in cat_cols:\n",
    "    count = X[var].value_counts(normalize=True).with_columns((pl.col(\"proportion\") * 100).round(2).alias(\"percentage\"))\n",
    "    console.print(count, style=\"info\")"
   ]
  },
  {
   "cell_type": "markdown",
   "id": "c012441b",
   "metadata": {},
   "source": [
    "### Time Based Cross Validation"
   ]
  },
  {
   "cell_type": "code",
   "execution_count": 45,
   "id": "c1be1bdf",
   "metadata": {},
   "outputs": [
    {
     "data": {
      "text/plain": [
       "((10000,), (1000,))"
      ]
     },
     "execution_count": 45,
     "metadata": {},
     "output_type": "execute_result"
    }
   ],
   "source": [
    "from sklearn.model_selection import TimeSeriesSplit\n",
    "\n",
    "ts_cv = TimeSeriesSplit(\n",
    "    n_splits=5,\n",
    "    gap=48,\n",
    "    max_train_size=10000,\n",
    "    test_size=1000,\n",
    ")\n",
    "\n",
    "all_splits = list(ts_cv.split(X, y))\n",
    "train_0, test_0 = all_splits[0]\n",
    "\n",
    "train_0.shape, test_0.shape"
   ]
  },
  {
   "cell_type": "code",
   "execution_count": 46,
   "id": "5abc8228",
   "metadata": {},
   "outputs": [
    {
     "data": {
      "text/plain": [
       "array([ 2331,  2332,  2333, ..., 12328, 12329, 12330], shape=(10000,))"
      ]
     },
     "execution_count": 46,
     "metadata": {},
     "output_type": "execute_result"
    }
   ],
   "source": [
    "train_0"
   ]
  },
  {
   "cell_type": "code",
   "execution_count": 47,
   "id": "948d0438",
   "metadata": {},
   "outputs": [
    {
     "data": {
      "text/html": [
       "<div><style>\n",
       ".dataframe > thead > tr,\n",
       ".dataframe > tbody > tr {\n",
       "  text-align: right;\n",
       "  white-space: pre-wrap;\n",
       "}\n",
       "</style>\n",
       "<small>shape: (5, 13)</small><table border=\"1\" class=\"dataframe\"><thead><tr><th>season</th><th>year</th><th>month</th><th>hour</th><th>holiday</th><th>weekday</th><th>workingday</th><th>weather</th><th>temp</th><th>feel_temp</th><th>humidity</th><th>windspeed</th><th>id</th></tr><tr><td>str</td><td>i64</td><td>i64</td><td>i64</td><td>bool</td><td>i64</td><td>bool</td><td>str</td><td>f64</td><td>f64</td><td>f64</td><td>f64</td><td>i64</td></tr></thead><tbody><tr><td>&quot;summer&quot;</td><td>0</td><td>4</td><td>1</td><td>false</td><td>2</td><td>true</td><td>&quot;misty&quot;</td><td>25.42</td><td>31.06</td><td>0.5</td><td>6.0032</td><td>2331</td></tr><tr><td>&quot;summer&quot;</td><td>0</td><td>4</td><td>2</td><td>false</td><td>2</td><td>true</td><td>&quot;misty&quot;</td><td>24.6</td><td>31.06</td><td>0.53</td><td>8.9981</td><td>2332</td></tr><tr><td>&quot;summer&quot;</td><td>0</td><td>4</td><td>3</td><td>false</td><td>2</td><td>true</td><td>&quot;misty&quot;</td><td>23.78</td><td>27.275</td><td>0.56</td><td>8.9981</td><td>2333</td></tr><tr><td>&quot;summer&quot;</td><td>0</td><td>4</td><td>4</td><td>false</td><td>2</td><td>true</td><td>&quot;misty&quot;</td><td>22.96</td><td>26.515</td><td>0.64</td><td>8.9981</td><td>2334</td></tr><tr><td>&quot;summer&quot;</td><td>0</td><td>4</td><td>5</td><td>false</td><td>2</td><td>true</td><td>&quot;misty&quot;</td><td>22.14</td><td>25.76</td><td>0.68</td><td>8.9981</td><td>2335</td></tr></tbody></table></div>"
      ],
      "text/plain": [
       "shape: (5, 13)\n",
       "┌─────┬─────┬─────┬──────┬────────┬────────┬────────┬───────┬───────┬───────┬───────┬───────┬──────┐\n",
       "│ sea ┆ yea ┆ mon ┆ hour ┆ holida ┆ weekda ┆ workin ┆ weath ┆ temp  ┆ feel_ ┆ humid ┆ winds ┆ id   │\n",
       "│ son ┆ r   ┆ th  ┆ ---  ┆ y      ┆ y      ┆ gday   ┆ er    ┆ ---   ┆ temp  ┆ ity   ┆ peed  ┆ ---  │\n",
       "│ --- ┆ --- ┆ --- ┆ i64  ┆ ---    ┆ ---    ┆ ---    ┆ ---   ┆ f64   ┆ ---   ┆ ---   ┆ ---   ┆ i64  │\n",
       "│ str ┆ i64 ┆ i64 ┆      ┆ bool   ┆ i64    ┆ bool   ┆ str   ┆       ┆ f64   ┆ f64   ┆ f64   ┆      │\n",
       "╞═════╪═════╪═════╪══════╪════════╪════════╪════════╪═══════╪═══════╪═══════╪═══════╪═══════╪══════╡\n",
       "│ sum ┆ 0   ┆ 4   ┆ 1    ┆ false  ┆ 2      ┆ true   ┆ misty ┆ 25.42 ┆ 31.06 ┆ 0.5   ┆ 6.003 ┆ 2331 │\n",
       "│ mer ┆     ┆     ┆      ┆        ┆        ┆        ┆       ┆       ┆       ┆       ┆ 2     ┆      │\n",
       "│ sum ┆ 0   ┆ 4   ┆ 2    ┆ false  ┆ 2      ┆ true   ┆ misty ┆ 24.6  ┆ 31.06 ┆ 0.53  ┆ 8.998 ┆ 2332 │\n",
       "│ mer ┆     ┆     ┆      ┆        ┆        ┆        ┆       ┆       ┆       ┆       ┆ 1     ┆      │\n",
       "│ sum ┆ 0   ┆ 4   ┆ 3    ┆ false  ┆ 2      ┆ true   ┆ misty ┆ 23.78 ┆ 27.27 ┆ 0.56  ┆ 8.998 ┆ 2333 │\n",
       "│ mer ┆     ┆     ┆      ┆        ┆        ┆        ┆       ┆       ┆ 5     ┆       ┆ 1     ┆      │\n",
       "│ sum ┆ 0   ┆ 4   ┆ 4    ┆ false  ┆ 2      ┆ true   ┆ misty ┆ 22.96 ┆ 26.51 ┆ 0.64  ┆ 8.998 ┆ 2334 │\n",
       "│ mer ┆     ┆     ┆      ┆        ┆        ┆        ┆       ┆       ┆ 5     ┆       ┆ 1     ┆      │\n",
       "│ sum ┆ 0   ┆ 4   ┆ 5    ┆ false  ┆ 2      ┆ true   ┆ misty ┆ 22.14 ┆ 25.76 ┆ 0.68  ┆ 8.998 ┆ 2335 │\n",
       "│ mer ┆     ┆     ┆      ┆        ┆        ┆        ┆       ┆       ┆       ┆       ┆ 1     ┆      │\n",
       "└─────┴─────┴─────┴──────┴────────┴────────┴────────┴───────┴───────┴───────┴───────┴───────┴──────┘"
      ]
     },
     "execution_count": 47,
     "metadata": {},
     "output_type": "execute_result"
    }
   ],
   "source": [
    "X.filter(pl.col(\"id\").is_in(train_0)).head()"
   ]
  },
  {
   "cell_type": "code",
   "execution_count": 51,
   "id": "c98c9a67",
   "metadata": {},
   "outputs": [],
   "source": [
    "from sklearn.preprocessing import LabelEncoder\n",
    "\n",
    "le = LabelEncoder()\n",
    "for var in cat_cols:\n",
    "    X = X.with_columns(var, pl.Series(le.fit_transform(X[var])).alias(f\"{var}_enc\"))\n",
    "X = X.drop(cat_cols)"
   ]
  },
  {
   "cell_type": "code",
   "execution_count": 52,
   "id": "9398595c",
   "metadata": {},
   "outputs": [
    {
     "data": {
      "text/html": [
       "<div><style>\n",
       ".dataframe > thead > tr,\n",
       ".dataframe > tbody > tr {\n",
       "  text-align: right;\n",
       "  white-space: pre-wrap;\n",
       "}\n",
       "</style>\n",
       "<small>shape: (5, 13)</small><table border=\"1\" class=\"dataframe\"><thead><tr><th>year</th><th>month</th><th>hour</th><th>holiday</th><th>weekday</th><th>workingday</th><th>temp</th><th>feel_temp</th><th>humidity</th><th>windspeed</th><th>id</th><th>season_enc</th><th>weather_enc</th></tr><tr><td>i64</td><td>i64</td><td>i64</td><td>bool</td><td>i64</td><td>bool</td><td>f64</td><td>f64</td><td>f64</td><td>f64</td><td>i64</td><td>i64</td><td>i64</td></tr></thead><tbody><tr><td>0</td><td>1</td><td>0</td><td>false</td><td>6</td><td>false</td><td>9.84</td><td>14.395</td><td>0.81</td><td>0.0</td><td>0</td><td>1</td><td>0</td></tr><tr><td>0</td><td>1</td><td>1</td><td>false</td><td>6</td><td>false</td><td>9.02</td><td>13.635</td><td>0.8</td><td>0.0</td><td>1</td><td>1</td><td>0</td></tr><tr><td>0</td><td>1</td><td>2</td><td>false</td><td>6</td><td>false</td><td>9.02</td><td>13.635</td><td>0.8</td><td>0.0</td><td>2</td><td>1</td><td>0</td></tr><tr><td>0</td><td>1</td><td>3</td><td>false</td><td>6</td><td>false</td><td>9.84</td><td>14.395</td><td>0.75</td><td>0.0</td><td>3</td><td>1</td><td>0</td></tr><tr><td>0</td><td>1</td><td>4</td><td>false</td><td>6</td><td>false</td><td>9.84</td><td>14.395</td><td>0.75</td><td>0.0</td><td>4</td><td>1</td><td>0</td></tr></tbody></table></div>"
      ],
      "text/plain": [
       "shape: (5, 13)\n",
       "┌─────┬─────┬──────┬────────┬────────┬────────┬──────┬───────┬───────┬───────┬─────┬───────┬───────┐\n",
       "│ yea ┆ mon ┆ hour ┆ holida ┆ weekda ┆ workin ┆ temp ┆ feel_ ┆ humid ┆ winds ┆ id  ┆ seaso ┆ weath │\n",
       "│ r   ┆ th  ┆ ---  ┆ y      ┆ y      ┆ gday   ┆ ---  ┆ temp  ┆ ity   ┆ peed  ┆ --- ┆ n_enc ┆ er_en │\n",
       "│ --- ┆ --- ┆ i64  ┆ ---    ┆ ---    ┆ ---    ┆ f64  ┆ ---   ┆ ---   ┆ ---   ┆ i64 ┆ ---   ┆ c     │\n",
       "│ i64 ┆ i64 ┆      ┆ bool   ┆ i64    ┆ bool   ┆      ┆ f64   ┆ f64   ┆ f64   ┆     ┆ i64   ┆ ---   │\n",
       "│     ┆     ┆      ┆        ┆        ┆        ┆      ┆       ┆       ┆       ┆     ┆       ┆ i64   │\n",
       "╞═════╪═════╪══════╪════════╪════════╪════════╪══════╪═══════╪═══════╪═══════╪═════╪═══════╪═══════╡\n",
       "│ 0   ┆ 1   ┆ 0    ┆ false  ┆ 6      ┆ false  ┆ 9.84 ┆ 14.39 ┆ 0.81  ┆ 0.0   ┆ 0   ┆ 1     ┆ 0     │\n",
       "│     ┆     ┆      ┆        ┆        ┆        ┆      ┆ 5     ┆       ┆       ┆     ┆       ┆       │\n",
       "│ 0   ┆ 1   ┆ 1    ┆ false  ┆ 6      ┆ false  ┆ 9.02 ┆ 13.63 ┆ 0.8   ┆ 0.0   ┆ 1   ┆ 1     ┆ 0     │\n",
       "│     ┆     ┆      ┆        ┆        ┆        ┆      ┆ 5     ┆       ┆       ┆     ┆       ┆       │\n",
       "│ 0   ┆ 1   ┆ 2    ┆ false  ┆ 6      ┆ false  ┆ 9.02 ┆ 13.63 ┆ 0.8   ┆ 0.0   ┆ 2   ┆ 1     ┆ 0     │\n",
       "│     ┆     ┆      ┆        ┆        ┆        ┆      ┆ 5     ┆       ┆       ┆     ┆       ┆       │\n",
       "│ 0   ┆ 1   ┆ 3    ┆ false  ┆ 6      ┆ false  ┆ 9.84 ┆ 14.39 ┆ 0.75  ┆ 0.0   ┆ 3   ┆ 1     ┆ 0     │\n",
       "│     ┆     ┆      ┆        ┆        ┆        ┆      ┆ 5     ┆       ┆       ┆     ┆       ┆       │\n",
       "│ 0   ┆ 1   ┆ 4    ┆ false  ┆ 6      ┆ false  ┆ 9.84 ┆ 14.39 ┆ 0.75  ┆ 0.0   ┆ 4   ┆ 1     ┆ 0     │\n",
       "│     ┆     ┆      ┆        ┆        ┆        ┆      ┆ 5     ┆       ┆       ┆     ┆       ┆       │\n",
       "└─────┴─────┴──────┴────────┴────────┴────────┴──────┴───────┴───────┴───────┴─────┴───────┴───────┘"
      ]
     },
     "execution_count": 52,
     "metadata": {},
     "output_type": "execute_result"
    }
   ],
   "source": [
    "X.head()"
   ]
  },
  {
   "cell_type": "code",
   "execution_count": null,
   "id": "de026528",
   "metadata": {},
   "outputs": [
    {
     "name": "stdout",
     "output_type": "stream",
     "text": [
      "[  79.9545    2.2322    7.4485  -24.6992    1.8832    3.1302    5.9148\n",
      "    2.5681 -194.0422    0.3792   20.7249   -5.0527] -51.702194741196394\n"
     ]
    },
    {
     "data": {
      "text/plain": [
       "0.39578168935675506"
      ]
     },
     "execution_count": 53,
     "metadata": {},
     "output_type": "execute_result"
    }
   ],
   "source": [
    "from sklearn.linear_model import LinearRegression\n",
    "\n",
    "lr = LinearRegression()\n",
    "lr.fit(X.drop(\"id\").to_numpy(), y.to_numpy())\n",
    "\n",
    "print(lr.coef_, lr.intercept_)\n",
    "\n",
    "lr.score(X.drop(\"id\").to_numpy(), y.to_numpy())"
   ]
  },
  {
   "cell_type": "code",
   "execution_count": null,
   "id": "ef690e69",
   "metadata": {},
   "outputs": [],
   "source": [
    "from sklearn.model_selection import cross_validate"
   ]
  },
  {
   "cell_type": "code",
   "execution_count": null,
   "id": "76ab0781",
   "metadata": {},
   "outputs": [
    {
     "name": "stdout",
     "output_type": "stream",
     "text": [
      "Attribute 'n_iter_' not found on any returned estimators (or it is None).\n",
      "Mean Absolute Error:     138.418 +/- 15.460\n",
      "Root Mean Squared Error: 179.524 +/- 19.996\n"
     ]
    }
   ],
   "source": [
    "def evaluate(model, X, y, cv, model_prop=None, model_step=None):\n",
    "    \"\"\"Evaluate a sklearn model with cross-validation and optionally report a property\n",
    "    from the fitted estimators (safe: won't raise if the attribute is missing).\n",
    "    \"\"\"\n",
    "    # Prepare numpy arrays for sklearn\n",
    "    X_np = X.drop(\"id\").to_numpy()\n",
    "    y_np = y.to_numpy()\n",
    "\n",
    "    # Only return estimators if caller requested a model property\n",
    "    return_estimators = model_prop is not None\n",
    "    cv_results = cross_validate(\n",
    "        model,\n",
    "        X_np,\n",
    "        y_np,\n",
    "        cv=cv,\n",
    "        scoring=[\"neg_mean_absolute_error\", \"neg_root_mean_squared_error\"],\n",
    "        return_estimator=return_estimators,\n",
    "    )\n",
    "\n",
    "    # Safely extract model property if requested\n",
    "    if model_prop is not None:\n",
    "        found_values = []\n",
    "        for est in cv_results.get(\"estimator\", []):\n",
    "            target = est\n",
    "            # If a pipeline step/name was provided, attempt several safe lookups\n",
    "            if model_step is not None:\n",
    "                # Try dict-like access (Pipeline supports ['step'])\n",
    "                try:\n",
    "                    target = est[model_step]\n",
    "                except Exception:\n",
    "                    # Try named_steps attr (Pipeline)\n",
    "                    try:\n",
    "                        named = getattr(est, \"named_steps\", None)\n",
    "                        if named is not None and model_step in named:\n",
    "                            target = named[model_step]\n",
    "                        else:\n",
    "                            target = getattr(est, model_step, None)\n",
    "                    except Exception:\n",
    "                        target = getattr(est, model_step, None)\n",
    "            # Finally, try to get the requested attribute without raising\n",
    "            if target is None:\n",
    "                continue\n",
    "            val = getattr(target, model_prop, None)\n",
    "            if val is not None:\n",
    "                found_values.append(val)\n",
    "\n",
    "        if len(found_values) == 0:\n",
    "            print(\n",
    "                f\"Attribute '{model_prop}' not found on any returned estimators (or it is None).\"\n",
    "            )\n",
    "        else:\n",
    "            print(f\"Mean model.{model_prop} = {np.mean(found_values)}\")\n",
    "\n",
    "    # Report CV scores\n",
    "    mae = -cv_results[\"test_neg_mean_absolute_error\"]\n",
    "    rmse = -cv_results[\"test_neg_root_mean_squared_error\"]\n",
    "    print(\n",
    "        f\"Mean Absolute Error:     {mae.mean():.3f} +/- {mae.std():.3f}\\n\"\n",
    "        f\"Root Mean Squared Error: {rmse.mean():.3f} +/- {rmse.std():.3f}\"\n",
    "    )\n",
    "\n",
    "\n",
    "# Safe example call\n",
    "evaluate(lr, X, y, cv=ts_cv, model_prop=\"n_iter_\")"
   ]
  },
  {
   "cell_type": "code",
   "execution_count": null,
   "id": "927967ef",
   "metadata": {},
   "outputs": [],
   "source": []
  },
  {
   "cell_type": "code",
   "execution_count": null,
   "id": "ba747fab",
   "metadata": {},
   "outputs": [],
   "source": []
  },
  {
   "cell_type": "code",
   "execution_count": null,
   "id": "97de9891",
   "metadata": {},
   "outputs": [],
   "source": []
  },
  {
   "cell_type": "code",
   "execution_count": null,
   "id": "e9b6c8e7",
   "metadata": {},
   "outputs": [],
   "source": []
  },
  {
   "cell_type": "code",
   "execution_count": null,
   "id": "127e5a90",
   "metadata": {},
   "outputs": [],
   "source": []
  },
  {
   "cell_type": "code",
   "execution_count": null,
   "id": "77501fbd",
   "metadata": {},
   "outputs": [],
   "source": []
  },
  {
   "cell_type": "code",
   "execution_count": null,
   "id": "f3dea9d1",
   "metadata": {},
   "outputs": [],
   "source": []
  },
  {
   "cell_type": "code",
   "execution_count": null,
   "id": "5ebeb1f0",
   "metadata": {},
   "outputs": [],
   "source": []
  }
 ],
 "metadata": {
  "kernelspec": {
   "display_name": "Time-series-lab (3.12.11)",
   "language": "python",
   "name": "python3"
  },
  "language_info": {
   "codemirror_mode": {
    "name": "ipython",
    "version": 3
   },
   "file_extension": ".py",
   "mimetype": "text/x-python",
   "name": "python",
   "nbconvert_exporter": "python",
   "pygments_lexer": "ipython3",
   "version": "3.12.11"
  }
 },
 "nbformat": 4,
 "nbformat_minor": 5
}
